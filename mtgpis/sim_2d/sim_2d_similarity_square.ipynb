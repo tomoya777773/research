{
 "cells": [
  {
   "cell_type": "code",
   "execution_count": 1,
   "metadata": {},
   "outputs": [],
   "source": [
    "#!/usr/bin/env python\n",
    "# -*- coding: utf-8 -*-\n",
    "import sys\n",
    "sys.path.append(\"../\")\n",
    "\n",
    "from kernel import InverseMultiquadricKernelPytouch\n",
    "from mtgp import MultiTaskGaussianProcessImplicitSurfaces\n",
    "\n",
    "import numpy as np\n",
    "import torch\n",
    "import matplotlib.pyplot as plt\n",
    "from mpl_toolkits.mplot3d import Axes3D\n",
    "import seaborn as sns\n",
    "plt.style.use(\"ggplot\")\n",
    "\n",
    "%matplotlib inline"
   ]
  },
  {
   "cell_type": "code",
   "execution_count": 2,
   "metadata": {},
   "outputs": [],
   "source": [
    "def plot_all(model, x1, y1, x2, y2, rate):\n",
    "    x   = np.linspace(-10, 70, 200)[:, None] * rate\n",
    "    y   = np.linspace(-10, 70, 200)[:, None] * rate\n",
    "    x,y = np.meshgrid(x, y)\n",
    "    xx  = x.ravel()[:, None]\n",
    "    yy  = y.ravel()[:, None]\n",
    "    XX  = np.concatenate([xx, yy], 1)\n",
    "    XX  = torch.from_numpy(XX).float()\n",
    "\n",
    "    mm1, ss1 = model.predict(XX, 0)\n",
    "    mm2, ss2 = model.predict(XX, 1)\n",
    "\n",
    "    d = np.where(abs(mm2.T[0]) < 0.1)\n",
    "    e = xx.T[0][d]\n",
    "    f = yy.T[0][d]\n",
    "\n",
    "    plt.xlim(-0.1, 0.7)\n",
    "    plt.ylim(-0.1, 0.7)\n",
    "\n",
    "\n",
    "    mm1 = mm1.reshape(x.shape)\n",
    "    mm2 = mm2.reshape(x.shape)\n",
    "\n",
    "    z = mm2.numpy()\n",
    "\n",
    "    xyz = plt.pcolormesh(x, y, z, cmap='Greens', shading=\"gouraud\", vmax=z.max(), vmin=z.min())\n",
    "\n",
    "    x2_ = np.concatenate([np.ones(N1)*12, np.linspace(12, 20, N2//2), np.ones(N2)*20, np.linspace(20, 40, N2), np.ones(N2)*40, np.linspace(40, 48, N2//2), np.ones(N1)*48]) * rate\n",
    "    y2_ = np.concatenate([np.linspace(15, 47, N1), np.ones(N2//2)*47, np.linspace(47, 20, N2), np.ones(N2)*20, np.linspace(20, 47, N2), np.ones(N2//2)*47, np.linspace(47, 15, N1)]) * rate\n",
    "    \n",
    "    plt.plot(x2_, y2_, linewidth=5, c='black')\n",
    "    \n",
    "    plt.plot(x1_0, y1_0, linewidth=5, alpha=0.5, c='red')\n",
    "    plt.plot(x2_0, y2_0, linewidth=5, c='blue')\n",
    "    plt.scatter(e,f, s=10, c='navy')\n",
    "    # plt.scatter(e,f)\n",
    "    #     plt.colorbar(xyz)\n",
    "    # plt.savefig('mtgpis.png')\n",
    "    plt.show()\n",
    "\n",
    "    # %matplotlib notebook\n",
    "    fig = plt.figure()\n",
    "    ax = fig.add_subplot(111, projection='3d')\n",
    "    ax.scatter(x1.ravel(), y1.ravel(), np.array(Y1).ravel())\n",
    "    ax.scatter(x2.ravel(), y2.ravel(), np.array(Y2).ravel())\n",
    "\n",
    "    surf = ax.plot_surface(x, y, z, cmap='bwr', linewidth=0)\n",
    "    fig.colorbar(surf)\n",
    "    # plt.savefig('mtgpis_3d.png')\n",
    "    plt.show()"
   ]
  },
  {
   "cell_type": "code",
   "execution_count": 3,
   "metadata": {},
   "outputs": [],
   "source": [
    "N1 = 10\n",
    "N2 = 10\n",
    "rate = 0.01 # data scale\n",
    "%matplotlib inline"
   ]
  },
  {
   "cell_type": "code",
   "execution_count": 4,
   "metadata": {},
   "outputs": [],
   "source": [
    "x1_0 = (np.concatenate([np.linspace(10, 50, N1), np.ones(N1)*50, np.linspace(50, 10, N1), np.ones(N1)*10]) ) * rate\n",
    "x1_1 = (np.concatenate([np.linspace(8, 52, N1), np.ones(N1)*52, np.linspace(52, 8, N1), np.ones(N1)*8]) ) * rate\n",
    "x1    = np.concatenate([x1_0, x1_1])[:, None]\n",
    "\n",
    "y1_0 = (np.concatenate([np.ones(N1)*10, np.linspace(10, 50, N1), np.ones(N1)*50, np.linspace(50, 10, N1)]) ) * rate\n",
    "y1_1 = (np.concatenate([np.ones(N1)*8, np.linspace(8, 52, N1), np.ones(N1)*52, np.linspace(52, 8, N1)]) ) * rate\n",
    "y1    = np.concatenate([y1_0, y1_1])[:, None]\n",
    "\n",
    "X1 = np.concatenate([x1,y1],1)\n",
    "Y1 = np.concatenate([np.zeros(len(x1_0)), np.ones(len(x1_1)) ])[:, None]\n",
    "T1 = 0"
   ]
  },
  {
   "cell_type": "code",
   "execution_count": 5,
   "metadata": {},
   "outputs": [],
   "source": [
    "step = 4\n",
    "x2_0 = (np.concatenate([np.linspace(12, 48, N2), np.ones(N2)*48, np.linspace(48, 12, N2), np.ones(N2)*12]) ) * rate  \n",
    "x2_1 = (np.concatenate([np.linspace(10, 50, N2), np.ones(N2)*50, np.linspace(50, 10, N2), np.ones(N2)*10]) ) * rate \n",
    "x2    = np.concatenate([x2_0, x2_1])[:, None]\n",
    "\n",
    "y2_0 = (np.concatenate([np.ones(N2)*12, np.linspace(12, 25, N2), np.ones(N2)*25, np.linspace(25, 12, N2)]) ) * rate \n",
    "y2_1 = (np.concatenate([np.ones(N2)*10, np.linspace(10, 27, N2), np.ones(N2)*27, np.linspace(27, 10, N2)]) ) * rate \n",
    "y2    = np.concatenate([y2_0, y2_1])[:, None]\n",
    "\n",
    "\n",
    "X2 = np.concatenate([x2,y2], 1)\n",
    "Y2 = np.concatenate([np.zeros(N2*step), np.ones(N2*step)])[:, None]\n",
    "T2 = 1"
   ]
  },
  {
   "cell_type": "code",
   "execution_count": 6,
   "metadata": {},
   "outputs": [
    {
     "data": {
      "image/png": "[encoded data removed]",
      "text/plain": [
       "<Figure size 432x288 with 1 Axes>"
      ]
     },
     "metadata": {
      "needs_background": "light"
     },
     "output_type": "display_data"
    }
   ],
   "source": [
    "plt.plot(x1_0, y1_0, linewidth=10)\n",
    "plt.plot(x2_0, y2_0, linewidth=10)\n",
    "# plt.scatter(x1_0, y1_0)\n",
    "# plt.scatter(x2_0, y2_0)\n",
    "\n",
    "# plt.scatter(x2_1, y2_1)\n",
    "# plt.scatter(x1_1, y1_1)\n",
    "\n",
    "plt.xlim(-0.1, 0.7)\n",
    "plt.ylim(-0.1, 0.7)\n",
    "plt.show()"
   ]
  },
  {
   "cell_type": "code",
   "execution_count": null,
   "metadata": {},
   "outputs": [],
   "source": []
  }
 ],
 "metadata": {
  "kernelspec": {
   "display_name": "Python 3",
   "language": "python",
   "name": "python3"
  },
  "language_info": {
   "codemirror_mode": {
    "name": "ipython",
    "version": 3
   },
   "file_extension": ".py",
   "mimetype": "text/x-python",
   "name": "python",
   "nbconvert_exporter": "python",
   "pygments_lexer": "ipython3",
   "version": "3.7.5"
  }
 },
 "nbformat": 4,
 "nbformat_minor": 2
}
